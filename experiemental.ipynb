{
 "cells": [
  {
   "cell_type": "code",
   "execution_count": 1,
   "metadata": {},
   "outputs": [],
   "source": [
    "import gym_mapf\n",
    "import importlib\n",
    "import matplotlib.pyplot as plt\n",
    "gym_mapf = importlib.reload(gym_mapf)"
   ]
  },
  {
   "cell_type": "code",
   "execution_count": 7,
   "metadata": {},
   "outputs": [
    {
     "ename": "TypeError",
     "evalue": "'int' object is not iterable",
     "output_type": "error",
     "traceback": [
      "\u001b[0;31m---------------------------------------------------------------------------\u001b[0m",
      "\u001b[0;31mTypeError\u001b[0m                                 Traceback (most recent call last)",
      "\u001b[0;32m<ipython-input-7-a86ef2a04d06>\u001b[0m in \u001b[0;36m<module>\u001b[0;34m\u001b[0m\n\u001b[1;32m      2\u001b[0m \u001b[0mscen_file\u001b[0m \u001b[0;34m=\u001b[0m \u001b[0;34m'gym_mapf/maps/empty-8-8/empty-8-8-even-1.scen'\u001b[0m\u001b[0;34m\u001b[0m\u001b[0;34m\u001b[0m\u001b[0m\n\u001b[1;32m      3\u001b[0m \u001b[0;34m\u001b[0m\u001b[0m\n\u001b[0;32m----> 4\u001b[0;31m \u001b[0menv\u001b[0m \u001b[0;34m=\u001b[0m \u001b[0mgym_mapf\u001b[0m\u001b[0;34m.\u001b[0m\u001b[0menvs\u001b[0m\u001b[0;34m.\u001b[0m\u001b[0mmapf_env\u001b[0m\u001b[0;34m.\u001b[0m\u001b[0mMapfEnv\u001b[0m\u001b[0;34m(\u001b[0m\u001b[0mmap_file\u001b[0m\u001b[0;34m,\u001b[0m \u001b[0mscen_file\u001b[0m\u001b[0;34m)\u001b[0m\u001b[0;34m\u001b[0m\u001b[0;34m\u001b[0m\u001b[0m\n\u001b[0m\u001b[1;32m      5\u001b[0m \u001b[0mstart_state\u001b[0m \u001b[0;34m=\u001b[0m \u001b[0menv\u001b[0m\u001b[0;34m.\u001b[0m\u001b[0mreset\u001b[0m\u001b[0;34m(\u001b[0m\u001b[0;34m)\u001b[0m\u001b[0;34m\u001b[0m\u001b[0;34m\u001b[0m\u001b[0m\n\u001b[1;32m      6\u001b[0m \u001b[0mstart_state\u001b[0m\u001b[0;34m\u001b[0m\u001b[0;34m\u001b[0m\u001b[0m\n",
      "\u001b[0;32m/mnt/e/studying/courses/Multi-Agent Planning 372-2-6201/gym-mapf-project/gym_mapf/envs/mapf_env.py\u001b[0m in \u001b[0;36m__init__\u001b[0;34m(self, map_file, scen_file)\u001b[0m\n\u001b[1;32m    110\u001b[0m         \u001b[0mself\u001b[0m\u001b[0;34m.\u001b[0m\u001b[0magent_starts\u001b[0m\u001b[0;34m,\u001b[0m \u001b[0magents_goals\u001b[0m \u001b[0;34m=\u001b[0m \u001b[0mparse_scen_file\u001b[0m\u001b[0;34m(\u001b[0m\u001b[0mscen_file\u001b[0m\u001b[0;34m,\u001b[0m \u001b[0mn_agents\u001b[0m\u001b[0;34m)\u001b[0m\u001b[0;34m\u001b[0m\u001b[0;34m\u001b[0m\u001b[0m\n\u001b[1;32m    111\u001b[0m \u001b[0;34m\u001b[0m\u001b[0m\n\u001b[0;32m--> 112\u001b[0;31m         \u001b[0mnS\u001b[0m \u001b[0;34m=\u001b[0m \u001b[0mlen\u001b[0m\u001b[0;34m(\u001b[0m\u001b[0mself\u001b[0m\u001b[0;34m.\u001b[0m\u001b[0mgrid\u001b[0m\u001b[0;34m)\u001b[0m \u001b[0;34m*\u001b[0m \u001b[0mlen\u001b[0m\u001b[0;34m(\u001b[0m\u001b[0mself\u001b[0m\u001b[0;34m.\u001b[0m\u001b[0mgrid\u001b[0m\u001b[0;34m[\u001b[0m\u001b[0;36m0\u001b[0m\u001b[0;34m]\u001b[0m\u001b[0;34m)\u001b[0m \u001b[0;34m*\u001b[0m \u001b[0mn_agents\u001b[0m  \u001b[0;31m# each agent may be in each of the cells.\u001b[0m\u001b[0;34m\u001b[0m\u001b[0;34m\u001b[0m\u001b[0m\n\u001b[0m\u001b[1;32m    113\u001b[0m         \u001b[0mnA\u001b[0m \u001b[0;34m=\u001b[0m \u001b[0mn_agents\u001b[0m \u001b[0;34m**\u001b[0m \u001b[0mlen\u001b[0m\u001b[0;34m(\u001b[0m\u001b[0mACTIONS\u001b[0m\u001b[0;34m)\u001b[0m\u001b[0;34m\u001b[0m\u001b[0;34m\u001b[0m\u001b[0m\n\u001b[1;32m    114\u001b[0m         \u001b[0mP\u001b[0m \u001b[0;34m=\u001b[0m \u001b[0mStateGetter\u001b[0m\u001b[0;34m(\u001b[0m\u001b[0mself\u001b[0m\u001b[0;34m.\u001b[0m\u001b[0mgrid\u001b[0m\u001b[0;34m,\u001b[0m \u001b[0mself\u001b[0m\u001b[0;34m.\u001b[0m\u001b[0magent_starts\u001b[0m\u001b[0;34m,\u001b[0m \u001b[0magents_goals\u001b[0m\u001b[0;34m,\u001b[0m \u001b[0mright_fail\u001b[0m\u001b[0;34m,\u001b[0m \u001b[0mleft_fail\u001b[0m\u001b[0;34m)\u001b[0m\u001b[0;34m\u001b[0m\u001b[0;34m\u001b[0m\u001b[0m\n",
      "\u001b[0;32m/mnt/e/studying/courses/Multi-Agent Planning 372-2-6201/gym-mapf-project/gym_mapf/utils/grid.py\u001b[0m in \u001b[0;36m__getitem__\u001b[0;34m(self, item)\u001b[0m\n\u001b[1;32m     28\u001b[0m \u001b[0;34m\u001b[0m\u001b[0m\n\u001b[1;32m     29\u001b[0m     \u001b[0;32mdef\u001b[0m \u001b[0m__getitem__\u001b[0m\u001b[0;34m(\u001b[0m\u001b[0mself\u001b[0m\u001b[0;34m,\u001b[0m \u001b[0mitem\u001b[0m\u001b[0;34m)\u001b[0m\u001b[0;34m:\u001b[0m\u001b[0;34m\u001b[0m\u001b[0;34m\u001b[0m\u001b[0m\n\u001b[0;32m---> 30\u001b[0;31m         \u001b[0mrow\u001b[0m\u001b[0;34m,\u001b[0m \u001b[0mcol\u001b[0m \u001b[0;34m=\u001b[0m \u001b[0mitem\u001b[0m\u001b[0;34m\u001b[0m\u001b[0;34m\u001b[0m\u001b[0m\n\u001b[0m\u001b[1;32m     31\u001b[0m         \u001b[0;32mreturn\u001b[0m \u001b[0mself\u001b[0m\u001b[0;34m.\u001b[0m\u001b[0m_map\u001b[0m\u001b[0;34m[\u001b[0m\u001b[0mrow\u001b[0m\u001b[0;34m]\u001b[0m\u001b[0;34m[\u001b[0m\u001b[0mcol\u001b[0m\u001b[0;34m]\u001b[0m\u001b[0;34m\u001b[0m\u001b[0;34m\u001b[0m\u001b[0m\n\u001b[1;32m     32\u001b[0m \u001b[0;34m\u001b[0m\u001b[0m\n",
      "\u001b[0;31mTypeError\u001b[0m: 'int' object is not iterable"
     ]
    }
   ],
   "source": [
    "map_file = 'gym_mapf/maps/empty-8-8/empty-8-8.map'\n",
    "scen_file = 'gym_mapf/maps/empty-8-8/empty-8-8-even-1.scen'\n",
    "\n",
    "env = gym_mapf.envs.mapf_env.MapfEnv(map_file, scen_file)\n",
    "start_state = env.reset()\n",
    "start_state"
   ]
  },
  {
   "cell_type": "code",
   "execution_count": 3,
   "metadata": {},
   "outputs": [],
   "source": [
    "from PIL import Image, ImageDraw\n",
    "\n",
    "height = 600\n",
    "width = 600\n",
    "image = Image.new(mode='L', size=(height, width), color=255)\n",
    "\n",
    "# Draw some lines\n",
    "draw = ImageDraw.Draw(image)\n",
    "y_start = 0\n",
    "y_end = image.height\n",
    "step_size = int(image.width / 10)\n",
    "\n",
    "for x in range(0, image.width, step_size):\n",
    "    line = ((x, y_start), (x, y_end))\n",
    "    draw.line(line, fill=128)\n",
    "\n",
    "x_start = 0\n",
    "x_end = image.width\n",
    "\n",
    "for y in range(0, image.height, step_size):\n",
    "    line = ((x_start, y), (x_end, y))\n",
    "    draw.line(line, fill=128)\n",
    "\n",
    "del draw\n",
    "\n",
    "image.show()"
   ]
  },
  {
   "cell_type": "code",
   "execution_count": 3,
   "metadata": {},
   "outputs": [],
   "source": [
    "from gym.envs.classic_control.rendering import *\n",
    "import matplotlib.pyplot as plt"
   ]
  },
  {
   "cell_type": "code",
   "execution_count": 138,
   "metadata": {},
   "outputs": [
    {
     "data": {
      "image/png": "[encoded data removed]",
      "text/plain": [
       "<Figure size 432x288 with 1 Axes>"
      ]
     },
     "metadata": {
      "needs_background": "light"
     },
     "output_type": "display_data"
    }
   ],
   "source": [
    "%matplotlib inline\n",
    "from IPython import display\n",
    "\n",
    "width = 250\n",
    "height = 250\n",
    "viewer = Viewer(width,height)\n",
    "\n",
    "# cartwidth = 50.0\n",
    "# cartheight = 30.0\n",
    "# l,r,t,b = -cartwidth/2, cartwidth/2, cartheight/2, -cartheight/2\n",
    "# cart = FilledPolygon([(l,b), (l,t), (r,t), (r,b)])\n",
    "# viewer.add_geom(cart)\n",
    "\n",
    "# viewer.draw_line((0, 125), (500, 125))\n",
    "# v = [(50, 50), (100, 50), (100, 100), (50, 100), (50,50)]\n",
    "viewer.draw_line((50, 50), (100, 50))\n",
    "viewer.draw_line((100, 50), (100, 100))\n",
    "viewer.draw_line((100, 100), (50, 100))\n",
    "viewer.draw_line((50, 100), (50,50))\n",
    "\n",
    "# viewer.draw_polygon(v, True)\n",
    "\n",
    "img = viewer.render(return_rgb_array=True)\n",
    "plt.figure(3)\n",
    "plt.clf()\n",
    "plt.imshow(img)\n",
    "plt.title('This is title')\n",
    "plt.axis('off')\n",
    "\n",
    "display.display(plt.gcf())\n",
    "display.clear_output(wait=True)"
   ]
  },
  {
   "cell_type": "code",
   "execution_count": 141,
   "metadata": {},
   "outputs": [
    {
     "data": {
      "image/png": "[encoded data removed]",
      "text/plain": [
       "<Figure size 432x288 with 1 Axes>"
      ]
     },
     "metadata": {
      "needs_background": "light"
     },
     "output_type": "display_data"
    }
   ],
   "source": [
    "%matplotlib inline\n",
    "from IPython import display\n",
    "import pyglet\n",
    "from pyglet.gl import *\n",
    "\n",
    "width = 250\n",
    "height = 250\n",
    "window = pyglet.window.Window(width=width, height=height)\n",
    "\n",
    "glEnable(GL_BLEND)\n",
    "glBlendFunc(GL_SRC_ALPHA, GL_ONE_MINUS_SRC_ALPHA)\n",
    "\n",
    "glClearColor(1,1,1,1)\n",
    "glColor4f(*(0, 0, 0, 1.0))\n",
    "window.clear()\n",
    "window.switch_to()\n",
    "window.dispatch_events()\n",
    "\n",
    "\n",
    "def draw_line(start, end):\n",
    "    glLineWidth(1)\n",
    "    glBegin(GL_LINES)\n",
    "    glVertex2f(*start)\n",
    "    glVertex2f(*end)\n",
    "    glEnd()\n",
    "\n",
    "glPushMatrix()\n",
    "# glTranslatef((0,0)[0], (0,0)[1], 0) # translate to GL loc ppint\n",
    "# glRotatef(RAD2DEG * 0, 0, 0, 1.0)\n",
    "# glScalef((1,1)[0], (1,1)[1], 1)\n",
    "\n",
    "draw_line((50, 50), (100, 50))\n",
    "draw_line((100, 50), (100, 100))\n",
    "draw_line((100, 100), (50, 100))\n",
    "draw_line((50, 100), (50,50))\n",
    "\n",
    "glPopMatrix()\n",
    "\n",
    "arr = None\n",
    "buffer = pyglet.image.get_buffer_manager().get_color_buffer()\n",
    "image_data = buffer.get_image_data()\n",
    "arr = np.frombuffer(image_data.data, dtype=np.uint8)\n",
    "# In https://github.com/openai/gym-http-api/issues/2, we\n",
    "# discovered that someone using Xmonad on Arch was having\n",
    "# a window of size 598 x 398, though a 600 x 400 window\n",
    "# was requested. (Guess Xmonad was preserving a pixel for\n",
    "# the boundary.) So we use the buffer height/width rather\n",
    "# than the requested one.\n",
    "arr = arr.reshape(buffer.height, buffer.width, 4)\n",
    "arr = arr[::-1,:,0:3]\n",
    "window.flip()\n",
    "\n",
    "\n",
    "plt.figure(3)\n",
    "plt.clf()\n",
    "plt.imshow(arr)\n",
    "plt.title('This is title')\n",
    "plt.axis('off')\n",
    "\n",
    "display.display(plt.gcf())\n",
    "display.clear_output(wait=True)"
   ]
  },
  {
   "cell_type": "code",
   "execution_count": 125,
   "metadata": {},
   "outputs": [
    {
     "data": {
      "text/plain": [
       "array([[[255, 255, 255],\n",
       "        [255, 255, 255],\n",
       "        [255, 255, 255],\n",
       "        ...,\n",
       "        [255, 255, 255],\n",
       "        [255, 255, 255],\n",
       "        [255, 255, 255]],\n",
       "\n",
       "       [[255, 255, 255],\n",
       "        [255, 255, 255],\n",
       "        [255, 255, 255],\n",
       "        ...,\n",
       "        [255, 255, 255],\n",
       "        [255, 255, 255],\n",
       "        [255, 255, 255]],\n",
       "\n",
       "       [[255, 255, 255],\n",
       "        [255, 255, 255],\n",
       "        [255, 255, 255],\n",
       "        ...,\n",
       "        [255, 255, 255],\n",
       "        [255, 255, 255],\n",
       "        [255, 255, 255]],\n",
       "\n",
       "       ...,\n",
       "\n",
       "       [[255, 255, 255],\n",
       "        [255, 255, 255],\n",
       "        [255, 255, 255],\n",
       "        ...,\n",
       "        [255, 255, 255],\n",
       "        [255, 255, 255],\n",
       "        [255, 255, 255]],\n",
       "\n",
       "       [[255, 255, 255],\n",
       "        [255, 255, 255],\n",
       "        [255, 255, 255],\n",
       "        ...,\n",
       "        [255, 255, 255],\n",
       "        [255, 255, 255],\n",
       "        [255, 255, 255]],\n",
       "\n",
       "       [[255, 255, 255],\n",
       "        [255, 255, 255],\n",
       "        [255, 255, 255],\n",
       "        ...,\n",
       "        [255, 255, 255],\n",
       "        [255, 255, 255],\n",
       "        [255, 255, 255]]], dtype=uint8)"
      ]
     },
     "execution_count": 125,
     "metadata": {},
     "output_type": "execute_result"
    }
   ],
   "source": [
    "arr"
   ]
  }
 ],
 "metadata": {
  "kernelspec": {
   "display_name": "Python 3",
   "language": "python",
   "name": "python3"
  },
  "language_info": {
   "codemirror_mode": {
    "name": "ipython",
    "version": 3
   },
   "file_extension": ".py",
   "mimetype": "text/x-python",
   "name": "python",
   "nbconvert_exporter": "python",
   "pygments_lexer": "ipython3",
   "version": "3.6.7"
  }
 },
 "nbformat": 4,
 "nbformat_minor": 2
}
